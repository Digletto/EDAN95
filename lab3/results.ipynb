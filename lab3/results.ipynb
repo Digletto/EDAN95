{
 "cells": [
  {
   "cell_type": "code",
   "execution_count": 1,
   "metadata": {},
   "outputs": [],
   "source": [
    "import numpy as np\n",
    "import tensorflow as tf\n",
    "tf.get_logger().setLevel('ERROR')"
   ]
  },
  {
   "cell_type": "code",
   "execution_count": 2,
   "metadata": {},
   "outputs": [],
   "source": [
    "from pathlib import Path\n",
    "\n",
    "base_path = Path('datasets/flowers_split')\n",
    "train_path = base_path / 'train'\n",
    "val_path = base_path / 'validation'\n",
    "test_path = base_path / 'test'\n",
    "\n",
    "classes = ('daisy', 'dandelion', 'rose', 'sunflower', 'tulip')"
   ]
  },
  {
   "cell_type": "code",
   "execution_count": 3,
   "metadata": {},
   "outputs": [],
   "source": [
    "import matplotlib.pyplot as plt\n",
    "\n",
    "# plt.figure(figsize=(7, 4))\n",
    "# plt.plot([i+1 for i in range(epochs)], history.history['acc'], '-o', c='k', lw=2, markersize=9)\n",
    "# plt.grid(True)\n",
    "# plt.title(\"Training accuracy with epochs\\n\", fontsize=18)\n",
    "# plt.xlabel(\"Training epochs\", fontsize=15)\n",
    "# plt.ylabel(\"Training accuracy\", fontsize=15)\n",
    "# plt.xticks(fontsize=15)\n",
    "# plt.yticks(fontsize=15)\n",
    "# display(plt)\n",
    "\n",
    "def plot_training_history(history):\n",
    "    acc = history.history['categorical_accuracy']\n",
    "    val_acc = history.history['val_categorical_accuracy']\n",
    "    loss = history.history['loss']\n",
    "    val_loss = history.history['val_loss']\n",
    "    epochs = range(1, len(acc) + 1)\n",
    "    plt.plot(epochs, acc, 'bo', label='Training acc')\n",
    "    plt.plot(epochs, val_acc, 'b', label='Validation acc')\n",
    "    plt.title('Training and validation accuracy')\n",
    "    plt.legend()\n",
    "    plt.figure()\n",
    "    plt.plot(epochs, loss, 'bo', label='Training loss')\n",
    "    plt.plot(epochs, val_loss, 'b', label='Validation loss')\n",
    "    plt.title('Training and validation loss')\n",
    "    plt.legend()\n",
    "    plt.show()"
   ]
  },
  {
   "cell_type": "markdown",
   "metadata": {},
   "source": [
    "# Building a Simple Convolutional Neural Network\n",
    "* Create a simple convolutional network and train a model with the train set. You can start from the architecture proposed by Chollet, Listing 5.5 (in Chollet's notebook 5.2), and a small number of epochs. Use the ImageDataGenerator class to scale your images as in the book:\n",
    "\n",
    "        train_datagen = ImageDataGenerator(rescale=1. / 255)\n",
    "        val_datagen = ImageDataGenerator(rescale=1. / 255)\n",
    "        test_datagen = ImageDataGenerator(rescale=1. / 255)\n",
    "                    \n",
    "\n",
    "* You will need to modify some parameters so that your network handles multiple classes.\n",
    "* You will also adjust the number of steps so that your generator in the fitting procedure sees all the samples.\n",
    "* You will report the training and validation losses and accuracies and comment on the possible overfit.\n",
    "* Apply your network to the test set and report the accuracy as well as the confusion matrix you obtained. As with fitting, you may need to adjust the number of steps so that your network tests all the samples.\n",
    "* Try to improve your model by modifying some parameters and evaluate your network again.\n"
   ]
  },
  {
   "cell_type": "code",
   "execution_count": 4,
   "metadata": {},
   "outputs": [
    {
     "name": "stderr",
     "output_type": "stream",
     "text": [
      "Using TensorFlow backend.\n"
     ]
    }
   ],
   "source": [
    "import keras\n",
    "from keras import layers, models\n",
    "from keras.preprocessing.image import ImageDataGenerator\n",
    "\n",
    "def build_model(input_shape):\n",
    "    model = models.Sequential()\n",
    "    model.add(layers.Conv2D(32, (3, 3), activation='relu', input_shape=input_shape))\n",
    "    model.add(layers.MaxPooling2D((2, 2)))\n",
    "    model.add(layers.Conv2D(64, (3, 3), activation='relu'))\n",
    "    model.add(layers.MaxPooling2D((2, 2)))\n",
    "    model.add(layers.Conv2D(64, (3, 3), activation='relu'))\n",
    "    model.add(layers.Flatten())\n",
    "    model.add(layers.Dense(64, activation='relu'))\n",
    "    model.add(layers.Dense(5, activation='softmax'))\n",
    "\n",
    "    print(model.summary())\n",
    "\n",
    "    model.compile(optimizer=keras.optimizers.RMSprop(),\n",
    "                  loss=keras.losses.categorical_crossentropy,\n",
    "                  metrics=[keras.metrics.categorical_accuracy])\n",
    "    \n",
    "    return model\n",
    "    \n",
    "\n",
    "def train(img_dim, batch_size, epochs, classes, augmentation):\n",
    "    model = build_model(input_shape=img_dim)\n",
    "\n",
    "    val_datagen = ImageDataGenerator(rescale=1. / 255)\n",
    "    train_datagen = val_datagen if not augmentation else ImageDataGenerator(\n",
    "        rescale=1. / 255,\n",
    "        rotation_range=40,\n",
    "        width_shift_range=0.2,\n",
    "        height_shift_range=0.2,\n",
    "        shear_range=0.2,\n",
    "        zoom_range=0.2,\n",
    "        horizontal_flip=True,\n",
    "        fill_mode='nearest')\n",
    "    \n",
    "    generator_args = {\n",
    "        'target_size': img_dim[:2],\n",
    "        'batch_size': batch_size,\n",
    "        'classes': classes,\n",
    "        'class_mode': 'categorical'\n",
    "    }\n",
    "\n",
    "    train_generator = train_datagen.flow_from_directory(\n",
    "            str(train_path),\n",
    "            **generator_args)\n",
    "\n",
    "    validation_generator = val_datagen.flow_from_directory(\n",
    "            str(val_path),\n",
    "            **generator_args)\n",
    "\n",
    "    # ------------------------------------------------------------------------------------------------\n",
    "\n",
    "    history = model.fit_generator(\n",
    "            train_generator,\n",
    "            steps_per_epoch=np.ceil(train_generator.samples / batch_size),\n",
    "            validation_data=validation_generator,\n",
    "            validation_steps=np.ceil(validation_generator.samples / batch_size),\n",
    "            epochs=epochs,\n",
    "            verbose=1)\n",
    "    \n",
    "    plot_training_history(history)\n",
    "\n",
    "    # ------------------------------------------------------------------------------------------------\n",
    "\n",
    "    return model"
   ]
  },
  {
   "cell_type": "code",
   "execution_count": 15,
   "metadata": {},
   "outputs": [],
   "source": [
    "from sklearn.metrics import classification_report, confusion_matrix\n",
    "\n",
    "def test_simple_model(img_dim, batch_size, classes, epochs, model):\n",
    "    test_datagen = ImageDataGenerator(rescale=1. / 255)\n",
    "\n",
    "    test_generator = test_datagen.flow_from_directory(str(test_path),\n",
    "                                                      target_size=img_dim[:2],\n",
    "                                                      batch_size=batch_size,\n",
    "                                                      class_mode='categorical',\n",
    "                                                      shuffle=False)\n",
    "\n",
    "    y_proba = model.predict_generator(test_generator, np.ceil(test_generator.samples / batch_size))\n",
    "    y_pred = np.argmax(y_proba, axis=1)\n",
    "    print('Confusion Matrix')\n",
    "    print(confusion_matrix(test_generator.classes, y_pred))\n",
    "    print('Classification Report')\n",
    "    print(classification_report(test_generator.classes, y_pred, target_names=classes))"
   ]
  },
  {
   "cell_type": "markdown",
   "metadata": {},
   "source": [
    "## Simple model no augmentation results"
   ]
  },
  {
   "cell_type": "code",
   "execution_count": 17,
   "metadata": {},
   "outputs": [
    {
     "name": "stdout",
     "output_type": "stream",
     "text": [
      "Model: \"sequential_2\"\n",
      "_________________________________________________________________\n",
      "Layer (type)                 Output Shape              Param #   \n",
      "=================================================================\n",
      "conv2d_4 (Conv2D)            (None, 62, 62, 32)        896       \n",
      "_________________________________________________________________\n",
      "max_pooling2d_3 (MaxPooling2 (None, 31, 31, 32)        0         \n",
      "_________________________________________________________________\n",
      "conv2d_5 (Conv2D)            (None, 29, 29, 64)        18496     \n",
      "_________________________________________________________________\n",
      "max_pooling2d_4 (MaxPooling2 (None, 14, 14, 64)        0         \n",
      "_________________________________________________________________\n",
      "conv2d_6 (Conv2D)            (None, 12, 12, 64)        36928     \n",
      "_________________________________________________________________\n",
      "flatten_2 (Flatten)          (None, 9216)              0         \n",
      "_________________________________________________________________\n",
      "dense_3 (Dense)              (None, 64)                589888    \n",
      "_________________________________________________________________\n",
      "dense_4 (Dense)              (None, 5)                 325       \n",
      "=================================================================\n",
      "Total params: 646,533\n",
      "Trainable params: 646,533\n",
      "Non-trainable params: 0\n",
      "_________________________________________________________________\n",
      "None\n",
      "Found 2594 images belonging to 5 classes.\n",
      "Found 1265 images belonging to 5 classes.\n",
      "Epoch 1/20\n",
      "21/21 [==============================] - 6s 281ms/step - loss: 1.6503 - categorical_accuracy: 0.2737 - val_loss: 1.5522 - val_categorical_accuracy: 0.2561\n",
      "Epoch 2/20\n",
      "21/21 [==============================] - 6s 275ms/step - loss: 1.4730 - categorical_accuracy: 0.3751 - val_loss: 1.4350 - val_categorical_accuracy: 0.3787\n",
      "Epoch 3/20\n",
      "21/21 [==============================] - 6s 278ms/step - loss: 1.3248 - categorical_accuracy: 0.4275 - val_loss: 1.2344 - val_categorical_accuracy: 0.4949\n",
      "Epoch 4/20\n",
      "21/21 [==============================] - 6s 278ms/step - loss: 1.2361 - categorical_accuracy: 0.4846 - val_loss: 1.2593 - val_categorical_accuracy: 0.5043\n",
      "Epoch 5/20\n",
      "21/21 [==============================] - 6s 276ms/step - loss: 1.1898 - categorical_accuracy: 0.5420 - val_loss: 1.0779 - val_categorical_accuracy: 0.5502\n",
      "Epoch 6/20\n",
      "21/21 [==============================] - 6s 276ms/step - loss: 1.1233 - categorical_accuracy: 0.5474 - val_loss: 0.8790 - val_categorical_accuracy: 0.5051\n",
      "Epoch 7/20\n",
      "21/21 [==============================] - 6s 278ms/step - loss: 1.0377 - categorical_accuracy: 0.5813 - val_loss: 0.9408 - val_categorical_accuracy: 0.5913\n",
      "Epoch 8/20\n",
      "21/21 [==============================] - 6s 277ms/step - loss: 0.9668 - categorical_accuracy: 0.6176 - val_loss: 1.1694 - val_categorical_accuracy: 0.5589\n",
      "Epoch 9/20\n",
      "21/21 [==============================] - 6s 277ms/step - loss: 0.9832 - categorical_accuracy: 0.6091 - val_loss: 1.0190 - val_categorical_accuracy: 0.5976\n",
      "Epoch 10/20\n",
      "21/21 [==============================] - 6s 280ms/step - loss: 0.9096 - categorical_accuracy: 0.6430 - val_loss: 1.0444 - val_categorical_accuracy: 0.6569\n",
      "Epoch 11/20\n",
      "21/21 [==============================] - 6s 277ms/step - loss: 0.8743 - categorical_accuracy: 0.6793 - val_loss: 1.0917 - val_categorical_accuracy: 0.5099\n",
      "Epoch 12/20\n",
      "21/21 [==============================] - 6s 280ms/step - loss: 0.7505 - categorical_accuracy: 0.7163 - val_loss: 1.0413 - val_categorical_accuracy: 0.6150\n",
      "Epoch 13/20\n",
      "21/21 [==============================] - 6s 276ms/step - loss: 0.6920 - categorical_accuracy: 0.7336 - val_loss: 0.8361 - val_categorical_accuracy: 0.6292\n",
      "Epoch 14/20\n",
      "21/21 [==============================] - 6s 277ms/step - loss: 0.6622 - categorical_accuracy: 0.7529 - val_loss: 0.9693 - val_categorical_accuracy: 0.6625\n",
      "Epoch 15/20\n",
      "21/21 [==============================] - 6s 278ms/step - loss: 0.6085 - categorical_accuracy: 0.7683 - val_loss: 1.1354 - val_categorical_accuracy: 0.6435\n",
      "Epoch 16/20\n",
      "21/21 [==============================] - 6s 281ms/step - loss: 0.5401 - categorical_accuracy: 0.8150 - val_loss: 0.8293 - val_categorical_accuracy: 0.6506\n",
      "Epoch 17/20\n",
      "21/21 [==============================] - 6s 279ms/step - loss: 0.4792 - categorical_accuracy: 0.8304 - val_loss: 1.1112 - val_categorical_accuracy: 0.6625\n",
      "Epoch 18/20\n",
      "21/21 [==============================] - 6s 279ms/step - loss: 0.4416 - categorical_accuracy: 0.8435 - val_loss: 0.9373 - val_categorical_accuracy: 0.6672\n",
      "Epoch 19/20\n",
      "21/21 [==============================] - 6s 281ms/step - loss: 0.3810 - categorical_accuracy: 0.8655 - val_loss: 1.1510 - val_categorical_accuracy: 0.6498\n",
      "Epoch 20/20\n",
      "21/21 [==============================] - 6s 279ms/step - loss: 0.3582 - categorical_accuracy: 0.8759 - val_loss: 1.0100 - val_categorical_accuracy: 0.6791\n"
     ]
    },
    {
     "data": {
      "image/png": "[encoded data removed]",
      "text/plain": [
       "<Figure size 432x288 with 1 Axes>"
      ]
     },
     "metadata": {
      "needs_background": "light"
     },
     "output_type": "display_data"
    },
    {
     "data": {
      "image/png": "[encoded data removed]",
      "text/plain": [
       "<Figure size 432x288 with 1 Axes>"
      ]
     },
     "metadata": {
      "needs_background": "light"
     },
     "output_type": "display_data"
    },
    {
     "name": "stdout",
     "output_type": "stream",
     "text": [
      "Found 865 images belonging to 5 classes.\n",
      "Confusion Matrix\n",
      "[[103  16  25  11  20]\n",
      " [ 29 102  39  22  23]\n",
      " [ 12   6  82   3  45]\n",
      " [  9  10   4 104  13]\n",
      " [ 15   3  38  18 113]]\n",
      "Classification Report\n",
      "              precision    recall  f1-score   support\n",
      "\n",
      "       daisy       0.61      0.59      0.60       175\n",
      "   dandelion       0.74      0.47      0.58       215\n",
      "        rose       0.44      0.55      0.49       148\n",
      "   sunflower       0.66      0.74      0.70       140\n",
      "       tulip       0.53      0.60      0.56       187\n",
      "\n",
      "    accuracy                           0.58       865\n",
      "   macro avg       0.60      0.59      0.59       865\n",
      "weighted avg       0.60      0.58      0.58       865\n",
      "\n"
     ]
    }
   ],
   "source": [
    "train_args = {\n",
    "    'img_dim': (64,64,3),\n",
    "    'batch_size': 128,\n",
    "    'epochs':20,\n",
    "    'classes':classes\n",
    "}\n",
    "\n",
    "model = train(**train_args, augmentation=False)\n",
    "test_simple_model(**train_args, model=model)"
   ]
  },
  {
   "cell_type": "markdown",
   "metadata": {},
   "source": [
    "# Using Image Augmentation\n",
    "* The flower dataset is relatively small. A way to expand such datasets is to generate artificial images by applying small transformations to existing images. Keras provides a built-in class for this: ImageDataGenerator. You will reuse it and apply it to the flower data set.\n",
    "\n",
    "* Using the network from the previous exercise, apply some transformations to your images. You can start from Chollet, Listing 5.11 (in notebook 5.2 also).\n",
    "* Report the training and validation losses and accuracies and comment on the possible overfit.\n",
    "* Apply your network to the test set and report the accuracy as well as the confusion matrix you obtained.\n",
    "\n",
    "## Simple model augmentation results"
   ]
  },
  {
   "cell_type": "code",
   "execution_count": 20,
   "metadata": {},
   "outputs": [
    {
     "name": "stdout",
     "output_type": "stream",
     "text": [
      "Model: \"sequential_3\"\n",
      "_________________________________________________________________\n",
      "Layer (type)                 Output Shape              Param #   \n",
      "=================================================================\n",
      "conv2d_7 (Conv2D)            (None, 62, 62, 32)        896       \n",
      "_________________________________________________________________\n",
      "max_pooling2d_5 (MaxPooling2 (None, 31, 31, 32)        0         \n",
      "_________________________________________________________________\n",
      "conv2d_8 (Conv2D)            (None, 29, 29, 64)        18496     \n",
      "_________________________________________________________________\n",
      "max_pooling2d_6 (MaxPooling2 (None, 14, 14, 64)        0         \n",
      "_________________________________________________________________\n",
      "conv2d_9 (Conv2D)            (None, 12, 12, 64)        36928     \n",
      "_________________________________________________________________\n",
      "flatten_3 (Flatten)          (None, 9216)              0         \n",
      "_________________________________________________________________\n",
      "dense_5 (Dense)              (None, 64)                589888    \n",
      "_________________________________________________________________\n",
      "dense_6 (Dense)              (None, 5)                 325       \n",
      "=================================================================\n",
      "Total params: 646,533\n",
      "Trainable params: 646,533\n",
      "Non-trainable params: 0\n",
      "_________________________________________________________________\n",
      "None\n",
      "Found 2594 images belonging to 5 classes.\n",
      "Found 1265 images belonging to 5 classes.\n",
      "Epoch 1/20\n",
      "21/21 [==============================] - 9s 423ms/step - loss: 1.6952 - categorical_accuracy: 0.2926 - val_loss: 1.3533 - val_categorical_accuracy: 0.3375\n",
      "Epoch 2/20\n",
      "21/21 [==============================] - 9s 421ms/step - loss: 1.3851 - categorical_accuracy: 0.3940 - val_loss: 1.1091 - val_categorical_accuracy: 0.4601\n",
      "Epoch 3/20\n",
      "21/21 [==============================] - 9s 424ms/step - loss: 1.2783 - categorical_accuracy: 0.4464 - val_loss: 1.2314 - val_categorical_accuracy: 0.5391\n",
      "Epoch 4/20\n",
      "21/21 [==============================] - 9s 423ms/step - loss: 1.2394 - categorical_accuracy: 0.4934 - val_loss: 1.1835 - val_categorical_accuracy: 0.5368\n",
      "Epoch 5/20\n",
      "21/21 [==============================] - 9s 427ms/step - loss: 1.1715 - categorical_accuracy: 0.5247 - val_loss: 1.4107 - val_categorical_accuracy: 0.4727\n",
      "Epoch 6/20\n",
      "21/21 [==============================] - 9s 424ms/step - loss: 1.1531 - categorical_accuracy: 0.5285 - val_loss: 1.1700 - val_categorical_accuracy: 0.4862\n",
      "Epoch 7/20\n",
      "21/21 [==============================] - 9s 425ms/step - loss: 1.0950 - categorical_accuracy: 0.5628 - val_loss: 1.3611 - val_categorical_accuracy: 0.5004\n",
      "Epoch 8/20\n",
      "21/21 [==============================] - 9s 428ms/step - loss: 1.0905 - categorical_accuracy: 0.5644 - val_loss: 1.1475 - val_categorical_accuracy: 0.4901\n",
      "Epoch 9/20\n",
      "21/21 [==============================] - 9s 424ms/step - loss: 1.0697 - categorical_accuracy: 0.5663 - val_loss: 0.9893 - val_categorical_accuracy: 0.5850\n",
      "Epoch 10/20\n",
      "21/21 [==============================] - 9s 422ms/step - loss: 1.0109 - categorical_accuracy: 0.5956 - val_loss: 1.0969 - val_categorical_accuracy: 0.5763\n",
      "Epoch 11/20\n",
      "21/21 [==============================] - 9s 425ms/step - loss: 0.9948 - categorical_accuracy: 0.5929 - val_loss: 1.0959 - val_categorical_accuracy: 0.5818\n",
      "Epoch 12/20\n",
      "21/21 [==============================] - 9s 424ms/step - loss: 1.0015 - categorical_accuracy: 0.6052 - val_loss: 1.0777 - val_categorical_accuracy: 0.5866\n",
      "Epoch 13/20\n",
      "21/21 [==============================] - 9s 427ms/step - loss: 0.9471 - categorical_accuracy: 0.6253 - val_loss: 0.9191 - val_categorical_accuracy: 0.6403\n",
      "Epoch 14/20\n",
      "21/21 [==============================] - 9s 422ms/step - loss: 0.9487 - categorical_accuracy: 0.6272 - val_loss: 0.9718 - val_categorical_accuracy: 0.6119\n",
      "Epoch 15/20\n",
      "21/21 [==============================] - 9s 426ms/step - loss: 0.9632 - categorical_accuracy: 0.6253 - val_loss: 0.9987 - val_categorical_accuracy: 0.5423\n",
      "Epoch 16/20\n",
      "21/21 [==============================] - 9s 424ms/step - loss: 0.8993 - categorical_accuracy: 0.6542 - val_loss: 1.0069 - val_categorical_accuracy: 0.6348\n",
      "Epoch 17/20\n",
      "21/21 [==============================] - 9s 422ms/step - loss: 0.9085 - categorical_accuracy: 0.6492 - val_loss: 0.9350 - val_categorical_accuracy: 0.6000\n",
      "Epoch 18/20\n",
      "21/21 [==============================] - 9s 425ms/step - loss: 0.8978 - categorical_accuracy: 0.6434 - val_loss: 0.7654 - val_categorical_accuracy: 0.6711\n",
      "Epoch 19/20\n",
      "21/21 [==============================] - 9s 422ms/step - loss: 0.8885 - categorical_accuracy: 0.6542 - val_loss: 0.8022 - val_categorical_accuracy: 0.6530\n",
      "Epoch 20/20\n",
      "21/21 [==============================] - 9s 423ms/step - loss: 0.8687 - categorical_accuracy: 0.6523 - val_loss: 0.8442 - val_categorical_accuracy: 0.6727\n"
     ]
    },
    {
     "data": {
      "image/png": "[encoded data removed]",
      "text/plain": [
       "<Figure size 432x288 with 1 Axes>"
      ]
     },
     "metadata": {
      "needs_background": "light"
     },
     "output_type": "display_data"
    },
    {
     "data": {
      "image/png": "[encoded data removed]",
      "text/plain": [
       "<Figure size 432x288 with 1 Axes>"
      ]
     },
     "metadata": {
      "needs_background": "light"
     },
     "output_type": "display_data"
    },
    {
     "name": "stdout",
     "output_type": "stream",
     "text": [
      "Found 865 images belonging to 5 classes.\n",
      "Confusion Matrix\n",
      "[[107  19  15  12  22]\n",
      " [  6 159   9  20  21]\n",
      " [  4   8  85   2  49]\n",
      " [  4   7   1 123   5]\n",
      " [  5  11  20  19 132]]\n",
      "Classification Report\n",
      "              precision    recall  f1-score   support\n",
      "\n",
      "       daisy       0.85      0.61      0.71       175\n",
      "   dandelion       0.78      0.74      0.76       215\n",
      "        rose       0.65      0.57      0.61       148\n",
      "   sunflower       0.70      0.88      0.78       140\n",
      "       tulip       0.58      0.71      0.63       187\n",
      "\n",
      "    accuracy                           0.70       865\n",
      "   macro avg       0.71      0.70      0.70       865\n",
      "weighted avg       0.72      0.70      0.70       865\n",
      "\n"
     ]
    }
   ],
   "source": [
    "model = train(**train_args, augmentation=True)\n",
    "\n",
    "test_simple_model(**train_args, model=model)"
   ]
  },
  {
   "cell_type": "markdown",
   "metadata": {},
   "source": [
    "# Using a Pretrained Convolutional Base\n",
    "*Some research teams have trained convolutional neural networks on much larger datasets. We have seen during the lecture that the networks can model conceptual patterns as they go through the layers. This was identified by Le Cun in his first experiments (http://yann.lecun.com/exdb/lenet/). In this last part, you will train classifiers on top of a pretrained convolutional base.*\n",
    "\n",
    "\n",
    "## Feature extraction without data augmentation\n",
    "\n",
    "* *Build a network that consists of the Inception V3 convolutional base and two dense layers. As in Chollet, Listing 5.17 (in Chollet's notebook 5.3), you will program an extract_features() function.*\n",
    "* *Train your network and report the training and validation losses and accuracies.*\n",
    "* *Apply your network to the test set and report the accuracy as well as the confusion matrix you obtained.*"
   ]
  },
  {
   "cell_type": "code",
   "execution_count": 37,
   "metadata": {},
   "outputs": [],
   "source": [
    "epochs=20\n",
    "batch_size = 128\n",
    "img_dim = (150, 150, 3)"
   ]
  },
  {
   "cell_type": "code",
   "execution_count": 38,
   "metadata": {},
   "outputs": [
    {
     "name": "stdout",
     "output_type": "stream",
     "text": [
      "(3, 3, 2048)\n"
     ]
    }
   ],
   "source": [
    "from keras.applications import InceptionV3\n",
    "\n",
    "conv_base = InceptionV3(weights='imagenet',\n",
    "                        include_top=False,\n",
    "                        input_shape=img_dim)\n",
    "\n",
    "conv_output_shape = conv_base.layers[-1].output_shape[1:]\n",
    "print(conv_output_shape)"
   ]
  },
  {
   "cell_type": "code",
   "execution_count": 39,
   "metadata": {},
   "outputs": [],
   "source": [
    "from keras.preprocessing.image import ImageDataGenerator\n",
    "\n",
    "def count_files(path, extension):\n",
    "    return len(list(path.glob('**/*.{extension}'.format(extension=extension))))\n",
    "\n",
    "def extract_features(path):\n",
    "    sample_count = count_files(path, 'jpg')\n",
    "    \n",
    "    features = np.zeros(shape=(sample_count, *conv_output_shape))\n",
    "    labels = np.zeros(shape=(sample_count, len(classes)))\n",
    "    \n",
    "    datagen = ImageDataGenerator(rescale=1 / 255)\n",
    "    generator = datagen.flow_from_directory(\n",
    "        str(path),\n",
    "        classes=classes,\n",
    "        target_size=img_dim[:2],\n",
    "        batch_size=batch_size,\n",
    "        class_mode='categorical',\n",
    "    )\n",
    "\n",
    "    for i, (inputs_batch, labels_batch) in enumerate(generator):\n",
    "        if i * batch_size >= sample_count: break\n",
    "        features_batch = conv_base.predict(inputs_batch)\n",
    "        features[i * batch_size : (i+1) * batch_size] = features_batch\n",
    "        labels[i * batch_size : (i+1) * batch_size] = labels_batch\n",
    "        \n",
    "    return features.reshape(-1, np.prod(conv_output_shape)), labels"
   ]
  },
  {
   "cell_type": "code",
   "execution_count": 40,
   "metadata": {},
   "outputs": [
    {
     "name": "stdout",
     "output_type": "stream",
     "text": [
      "Found 2594 images belonging to 5 classes.\n",
      "Found 1265 images belonging to 5 classes.\n",
      "Found 865 images belonging to 5 classes.\n"
     ]
    }
   ],
   "source": [
    "x_train, y_train = extract_features(train_path)\n",
    "x_val, y_val = extract_features(val_path)\n",
    "x_test, y_test = extract_features(test_path)"
   ]
  },
  {
   "cell_type": "code",
   "execution_count": 41,
   "metadata": {},
   "outputs": [],
   "source": [
    "np.save('x_train', x_train)\n",
    "np.save('x_val', x_val)\n",
    "np.save('x_test', x_test)\n",
    "\n",
    "np.save('y_train', y_train)\n",
    "np.save('y_val', y_val)\n",
    "np.save('y_test', y_test)"
   ]
  },
  {
   "cell_type": "code",
   "execution_count": 42,
   "metadata": {},
   "outputs": [],
   "source": [
    "import keras\n",
    "from keras.models import Sequential\n",
    "from keras.layers import Dense, Dropout, Flatten"
   ]
  },
  {
   "cell_type": "code",
   "execution_count": 43,
   "metadata": {},
   "outputs": [
    {
     "name": "stdout",
     "output_type": "stream",
     "text": [
      "Train on 2594 samples, validate on 1265 samples\n",
      "Epoch 1/20\n",
      "2594/2594 [==============================] - 1s 538us/step - loss: 1.7086 - categorical_accuracy: 0.4437 - val_loss: 0.9319 - val_categorical_accuracy: 0.6237\n",
      "Epoch 2/20\n",
      "2594/2594 [==============================] - 0s 169us/step - loss: 0.9879 - categorical_accuracy: 0.6184 - val_loss: 0.8036 - val_categorical_accuracy: 0.6885\n",
      "Epoch 3/20\n",
      "2594/2594 [==============================] - 0s 172us/step - loss: 0.8129 - categorical_accuracy: 0.6823 - val_loss: 0.6961 - val_categorical_accuracy: 0.7423\n",
      "Epoch 4/20\n",
      "2594/2594 [==============================] - 0s 168us/step - loss: 0.6998 - categorical_accuracy: 0.7375 - val_loss: 0.7036 - val_categorical_accuracy: 0.7439\n",
      "Epoch 5/20\n",
      "2594/2594 [==============================] - 0s 168us/step - loss: 0.6125 - categorical_accuracy: 0.7637 - val_loss: 0.6366 - val_categorical_accuracy: 0.7771\n",
      "Epoch 6/20\n",
      "2594/2594 [==============================] - 0s 166us/step - loss: 0.5324 - categorical_accuracy: 0.8034 - val_loss: 0.6005 - val_categorical_accuracy: 0.7905\n",
      "Epoch 7/20\n",
      "2594/2594 [==============================] - 0s 167us/step - loss: 0.4707 - categorical_accuracy: 0.8300 - val_loss: 0.5843 - val_categorical_accuracy: 0.7929\n",
      "Epoch 8/20\n",
      "2594/2594 [==============================] - 0s 169us/step - loss: 0.4274 - categorical_accuracy: 0.8512 - val_loss: 0.5338 - val_categorical_accuracy: 0.8221\n",
      "Epoch 9/20\n",
      "2594/2594 [==============================] - 0s 169us/step - loss: 0.3661 - categorical_accuracy: 0.8774 - val_loss: 0.5182 - val_categorical_accuracy: 0.8229\n",
      "Epoch 10/20\n",
      "2594/2594 [==============================] - 0s 169us/step - loss: 0.3292 - categorical_accuracy: 0.8886 - val_loss: 0.4916 - val_categorical_accuracy: 0.8356\n",
      "Epoch 11/20\n",
      "2594/2594 [==============================] - 0s 174us/step - loss: 0.3276 - categorical_accuracy: 0.8859 - val_loss: 0.4865 - val_categorical_accuracy: 0.8395\n",
      "Epoch 12/20\n",
      "2594/2594 [==============================] - 0s 171us/step - loss: 0.2849 - categorical_accuracy: 0.9052 - val_loss: 0.4715 - val_categorical_accuracy: 0.8427\n",
      "Epoch 13/20\n",
      "2594/2594 [==============================] - 0s 168us/step - loss: 0.2585 - categorical_accuracy: 0.9206 - val_loss: 0.4690 - val_categorical_accuracy: 0.8379\n",
      "Epoch 14/20\n",
      "2594/2594 [==============================] - 0s 166us/step - loss: 0.2287 - categorical_accuracy: 0.9310 - val_loss: 0.4591 - val_categorical_accuracy: 0.8451\n",
      "Epoch 15/20\n",
      "2594/2594 [==============================] - 0s 168us/step - loss: 0.2225 - categorical_accuracy: 0.9337 - val_loss: 0.4611 - val_categorical_accuracy: 0.8435\n",
      "Epoch 16/20\n",
      "2594/2594 [==============================] - 0s 169us/step - loss: 0.1904 - categorical_accuracy: 0.9449 - val_loss: 0.4655 - val_categorical_accuracy: 0.8458\n",
      "Epoch 17/20\n",
      "2594/2594 [==============================] - 0s 167us/step - loss: 0.1760 - categorical_accuracy: 0.9545 - val_loss: 0.4861 - val_categorical_accuracy: 0.8403\n",
      "Epoch 18/20\n",
      "2594/2594 [==============================] - 0s 169us/step - loss: 0.1603 - categorical_accuracy: 0.9572 - val_loss: 0.4587 - val_categorical_accuracy: 0.8427\n",
      "Epoch 19/20\n",
      "2594/2594 [==============================] - 0s 169us/step - loss: 0.1533 - categorical_accuracy: 0.9568 - val_loss: 0.4856 - val_categorical_accuracy: 0.8403\n",
      "Epoch 20/20\n",
      "2594/2594 [==============================] - 0s 167us/step - loss: 0.1331 - categorical_accuracy: 0.9676 - val_loss: 0.4405 - val_categorical_accuracy: 0.8538\n"
     ]
    }
   ],
   "source": [
    "model = Sequential([\n",
    "    Dense(256, activation='relu', input_dim=np.prod(conv_output_shape)),\n",
    "    Dropout(0.5),\n",
    "    Dense(5, activation='softmax')\n",
    "])\n",
    "\n",
    "model.compile(\n",
    "    optimizer=keras.optimizers.RMSprop(lr=2e-5),\n",
    "    loss=keras.losses.categorical_crossentropy,\n",
    "    metrics=[keras.metrics.categorical_accuracy]\n",
    ")\n",
    "\n",
    "history = model.fit(\n",
    "    x_train,\n",
    "    y_train,\n",
    "    epochs=epochs,\n",
    "    batch_size=batch_size,\n",
    "    validation_data=(x_val, y_val)\n",
    "    )\n",
    "\n",
    "model.save('feature-extraction-1.h5')"
   ]
  },
  {
   "cell_type": "code",
   "execution_count": 34,
   "metadata": {},
   "outputs": [
    {
     "data": {
      "image/png": "[encoded data removed]",
      "text/plain": [
       "<Figure size 432x288 with 1 Axes>"
      ]
     },
     "metadata": {
      "needs_background": "light"
     },
     "output_type": "display_data"
    },
    {
     "data": {
      "image/png": "[encoded data removed]",
      "text/plain": [
       "<Figure size 432x288 with 1 Axes>"
      ]
     },
     "metadata": {
      "needs_background": "light"
     },
     "output_type": "display_data"
    }
   ],
   "source": [
    "plot_training_history(history)"
   ]
  },
  {
   "cell_type": "code",
   "execution_count": null,
   "metadata": {},
   "outputs": [],
   "source": [
    "# from keras.models import load_model\n",
    "# model = load_model('feature-extraction-1.h5')plot_training_history"
   ]
  },
  {
   "cell_type": "code",
   "execution_count": 44,
   "metadata": {},
   "outputs": [
    {
     "name": "stdout",
     "output_type": "stream",
     "text": [
      "865/865 [==============================] - 0s 133us/step\n"
     ]
    }
   ],
   "source": [
    "test_loss, test_accuracy = model.evaluate(x_test, y_test)\n",
    "y_pred = model.predict_classes(x_test)"
   ]
  },
  {
   "cell_type": "code",
   "execution_count": 45,
   "metadata": {},
   "outputs": [
    {
     "name": "stdout",
     "output_type": "stream",
     "text": [
      "[[150   3   8   5   9]\n",
      " [  9 183   6  13   4]\n",
      " [  5   2 107   8  26]\n",
      " [  6   7   4 114   9]\n",
      " [  5   3  22   4 153]]\n",
      "              precision    recall  f1-score   support\n",
      "\n",
      "       daisy       0.86      0.86      0.86       175\n",
      "   dandelion       0.92      0.85      0.89       215\n",
      "        rose       0.73      0.72      0.73       148\n",
      "   sunflower       0.79      0.81      0.80       140\n",
      "       tulip       0.76      0.82      0.79       187\n",
      "\n",
      "    accuracy                           0.82       865\n",
      "   macro avg       0.81      0.81      0.81       865\n",
      "weighted avg       0.82      0.82      0.82       865\n",
      "\n"
     ]
    }
   ],
   "source": [
    "from sklearn.metrics import confusion_matrix, classification_report\n",
    "\n",
    "print(confusion_matrix(np.argmax(y_test, axis=1), y_pred))\n",
    "print(classification_report(np.argmax(y_test, axis=1), y_pred, target_names=classes))"
   ]
  },
  {
   "cell_type": "markdown",
   "metadata": {},
   "source": [
    "## Feature extraction with data augmentation\n",
    "* *Modify your program to include an image transformer. Train a new model.*\n",
    "* *Apply your network to the test set and report the accuracy as well as the confusion matrix you obtained.*"
   ]
  },
  {
   "cell_type": "code",
   "execution_count": 53,
   "metadata": {},
   "outputs": [],
   "source": [
    "img_dim = (150, 150, 3)\n",
    "epochs = 20\n",
    "batch_size = 128"
   ]
  },
  {
   "cell_type": "code",
   "execution_count": 54,
   "metadata": {},
   "outputs": [
    {
     "name": "stdout",
     "output_type": "stream",
     "text": [
      "trainable before freeze:  192\n",
      "trainable:  4\n",
      "Model: \"sequential_8\"\n",
      "_________________________________________________________________\n",
      "Layer (type)                 Output Shape              Param #   \n",
      "=================================================================\n",
      "inception_v3 (Model)         (None, 3, 3, 2048)        21802784  \n",
      "_________________________________________________________________\n",
      "flatten_6 (Flatten)          (None, 18432)             0         \n",
      "_________________________________________________________________\n",
      "dense_15 (Dense)             (None, 256)               4718848   \n",
      "_________________________________________________________________\n",
      "dense_16 (Dense)             (None, 5)                 1285      \n",
      "=================================================================\n",
      "Total params: 26,522,917\n",
      "Trainable params: 4,720,133\n",
      "Non-trainable params: 21,802,784\n",
      "_________________________________________________________________\n"
     ]
    }
   ],
   "source": [
    "conv_base = InceptionV3(weights='imagenet',\n",
    "                        include_top=False,\n",
    "                        input_shape=img_dim)\n",
    "\n",
    "model2 = Sequential([\n",
    "    conv_base,\n",
    "    Flatten(),\n",
    "    Dense(256, activation='relu'),\n",
    "    Dense(5, activation='softmax')\n",
    "])\n",
    "print('trainable before freeze: ', len(model2.trainable_weights))\n",
    "\n",
    "conv_base.trainable = False\n",
    "\n",
    "print('trainable: ', len(model2.trainable_weights))\n",
    "\n",
    "model2.summary()"
   ]
  },
  {
   "cell_type": "code",
   "execution_count": 55,
   "metadata": {},
   "outputs": [
    {
     "name": "stdout",
     "output_type": "stream",
     "text": [
      "Found 2594 images belonging to 5 classes.\n",
      "Found 1265 images belonging to 5 classes.\n",
      "Epoch 1/20\n",
      "21/21 [==============================] - 19s 883ms/step - loss: 12.1984 - categorical_accuracy: 0.3273 - val_loss: 4.3998 - val_categorical_accuracy: 0.4269\n",
      "Epoch 2/20\n",
      "21/21 [==============================] - 16s 748ms/step - loss: 1.6380 - categorical_accuracy: 0.4830 - val_loss: 2.7321 - val_categorical_accuracy: 0.4498\n",
      "Epoch 3/20\n",
      "21/21 [==============================] - 19s 882ms/step - loss: 1.6023 - categorical_accuracy: 0.5439 - val_loss: 2.2197 - val_categorical_accuracy: 0.4775\n",
      "Epoch 4/20\n",
      "21/21 [==============================] - 19s 885ms/step - loss: 1.2369 - categorical_accuracy: 0.5894 - val_loss: 3.7623 - val_categorical_accuracy: 0.4711\n",
      "Epoch 5/20\n",
      "21/21 [==============================] - 19s 881ms/step - loss: 1.0613 - categorical_accuracy: 0.6361 - val_loss: 3.7097 - val_categorical_accuracy: 0.5209\n",
      "Epoch 6/20\n",
      "21/21 [==============================] - 19s 882ms/step - loss: 1.1179 - categorical_accuracy: 0.6353 - val_loss: 3.9652 - val_categorical_accuracy: 0.4000\n",
      "Epoch 7/20\n",
      "21/21 [==============================] - 18s 879ms/step - loss: 0.9310 - categorical_accuracy: 0.6823 - val_loss: 5.0223 - val_categorical_accuracy: 0.4063\n",
      "Epoch 8/20\n",
      "21/21 [==============================] - 18s 880ms/step - loss: 1.0734 - categorical_accuracy: 0.6635 - val_loss: 3.8729 - val_categorical_accuracy: 0.4933\n",
      "Epoch 9/20\n",
      "21/21 [==============================] - 19s 892ms/step - loss: 0.8908 - categorical_accuracy: 0.6839 - val_loss: 2.9236 - val_categorical_accuracy: 0.5597\n",
      "Epoch 10/20\n",
      "21/21 [==============================] - 19s 885ms/step - loss: 0.8541 - categorical_accuracy: 0.7109 - val_loss: 4.9837 - val_categorical_accuracy: 0.3810\n",
      "Epoch 11/20\n",
      "21/21 [==============================] - 18s 879ms/step - loss: 1.0312 - categorical_accuracy: 0.6685 - val_loss: 5.5473 - val_categorical_accuracy: 0.4055\n",
      "Epoch 12/20\n",
      "21/21 [==============================] - 18s 881ms/step - loss: 0.8027 - categorical_accuracy: 0.7244 - val_loss: 6.2429 - val_categorical_accuracy: 0.4838\n",
      "Epoch 13/20\n",
      "21/21 [==============================] - 19s 887ms/step - loss: 0.8425 - categorical_accuracy: 0.7005 - val_loss: 3.1447 - val_categorical_accuracy: 0.5123\n",
      "Epoch 14/20\n",
      "21/21 [==============================] - 19s 882ms/step - loss: 0.7557 - categorical_accuracy: 0.7317 - val_loss: 2.2674 - val_categorical_accuracy: 0.5850\n",
      "Epoch 15/20\n",
      "21/21 [==============================] - 18s 877ms/step - loss: 0.7089 - categorical_accuracy: 0.7421 - val_loss: 2.7461 - val_categorical_accuracy: 0.5858\n",
      "Epoch 16/20\n",
      "21/21 [==============================] - 19s 884ms/step - loss: 0.7037 - categorical_accuracy: 0.7398 - val_loss: 3.3639 - val_categorical_accuracy: 0.5344\n",
      "Epoch 17/20\n",
      "21/21 [==============================] - 18s 878ms/step - loss: 0.7018 - categorical_accuracy: 0.7479 - val_loss: 4.7821 - val_categorical_accuracy: 0.5059\n",
      "Epoch 18/20\n",
      "21/21 [==============================] - 19s 886ms/step - loss: 0.6614 - categorical_accuracy: 0.7594 - val_loss: 4.3188 - val_categorical_accuracy: 0.4545\n",
      "Epoch 19/20\n",
      "21/21 [==============================] - 19s 884ms/step - loss: 0.7385 - categorical_accuracy: 0.7448 - val_loss: 2.9344 - val_categorical_accuracy: 0.5842\n",
      "Epoch 20/20\n",
      "21/21 [==============================] - 19s 889ms/step - loss: 0.6556 - categorical_accuracy: 0.7618 - val_loss: 2.8806 - val_categorical_accuracy: 0.5739\n"
     ]
    }
   ],
   "source": [
    "train_datagen = ImageDataGenerator(\n",
    "      rescale=1./255,\n",
    "      rotation_range=40,\n",
    "      width_shift_range=0.2,\n",
    "      height_shift_range=0.2,\n",
    "      shear_range=0.2,\n",
    "      zoom_range=0.2,\n",
    "      horizontal_flip=True,\n",
    "      fill_mode='nearest')\n",
    "\n",
    "# Note that the validation data should not be augmented!\n",
    "test_datagen = ImageDataGenerator(rescale=1./255)\n",
    "\n",
    "train_generator = train_datagen.flow_from_directory(\n",
    "        str(train_path),\n",
    "        target_size=img_dim[:2],\n",
    "        batch_size=batch_size,\n",
    "        # Since we use binary_crossentropy loss, we need binary labels\n",
    "        class_mode='categorical')\n",
    "\n",
    "validation_generator = test_datagen.flow_from_directory(\n",
    "        str(val_path),\n",
    "        target_size=img_dim[:2],\n",
    "        batch_size=batch_size,\n",
    "        class_mode='categorical')\n",
    "\n",
    "model2.compile(loss=keras.losses.categorical_crossentropy,\n",
    "              optimizer=keras.optimizers.RMSprop(),\n",
    "              metrics=[keras.metrics.categorical_accuracy])\n",
    "\n",
    "history2 = model2.fit_generator(\n",
    "      train_generator,\n",
    "      steps_per_epoch=np.ceil(train_generator.samples / batch_size),\n",
    "      epochs=epochs,\n",
    "      validation_data=validation_generator,\n",
    "      validation_steps=np.ceil(validation_generator.samples / batch_size))\n",
    "\n",
    "model2.save('feature-extraction-2.h5')"
   ]
  },
  {
   "cell_type": "code",
   "execution_count": 56,
   "metadata": {},
   "outputs": [
    {
     "data": {
      "image/png": "[encoded data removed]",
      "text/plain": [
       "<Figure size 432x288 with 1 Axes>"
      ]
     },
     "metadata": {
      "needs_background": "light"
     },
     "output_type": "display_data"
    },
    {
     "data": {
      "image/png": "[encoded data removed]",
      "text/plain": [
       "<Figure size 432x288 with 1 Axes>"
      ]
     },
     "metadata": {
      "needs_background": "light"
     },
     "output_type": "display_data"
    }
   ],
   "source": [
    "plot_training_history(history2)"
   ]
  },
  {
   "cell_type": "code",
   "execution_count": 57,
   "metadata": {},
   "outputs": [
    {
     "name": "stdout",
     "output_type": "stream",
     "text": [
      "Found 865 images belonging to 5 classes.\n",
      "[[161   2   1   6   5]\n",
      " [ 63  64   3  79   6]\n",
      " [ 23   1  60  45  19]\n",
      " [ 47   4   2  82   5]\n",
      " [ 20   4   8  31 124]]\n",
      "              precision    recall  f1-score   support\n",
      "\n",
      "           0       0.51      0.92      0.66       175\n",
      "           1       0.85      0.30      0.44       215\n",
      "           2       0.81      0.41      0.54       148\n",
      "           3       0.34      0.59      0.43       140\n",
      "           4       0.78      0.66      0.72       187\n",
      "\n",
      "    accuracy                           0.57       865\n",
      "   macro avg       0.66      0.57      0.56       865\n",
      "weighted avg       0.68      0.57      0.56       865\n",
      "\n"
     ]
    }
   ],
   "source": [
    "test_generator = test_datagen.flow_from_directory(\n",
    "        str(test_path),\n",
    "        target_size=img_dim[:2],\n",
    "        batch_size=batch_size,\n",
    "        class_mode='categorical',\n",
    "        shuffle=False\n",
    ")\n",
    "\n",
    "test_loss, test_accuracy = model2.evaluate_generator(\n",
    "    test_generator,\n",
    "    steps=np.ceil(test_generator.samples / batch_size)\n",
    ")\n",
    "\n",
    "y_proba = model2.predict_generator(\n",
    "    test_generator,\n",
    "    steps=np.ceil(test_generator.samples / batch_size)\n",
    ")\n",
    "y_pred = np.argmax(y_proba, axis=1)\n",
    "\n",
    "print(confusion_matrix(test_generator.classes, y_pred))\n",
    "print(classification_report(test_generator.classes, y_pred))"
   ]
  },
  {
   "cell_type": "code",
   "execution_count": null,
   "metadata": {},
   "outputs": [],
   "source": []
  },
  {
   "cell_type": "code",
   "execution_count": null,
   "metadata": {},
   "outputs": [],
   "source": []
  }
 ],
 "metadata": {
  "kernelspec": {
   "display_name": "Python 3",
   "language": "python",
   "name": "python3"
  },
  "language_info": {
   "codemirror_mode": {
    "name": "ipython",
    "version": 3
   },
   "file_extension": ".py",
   "mimetype": "text/x-python",
   "name": "python",
   "nbconvert_exporter": "python",
   "pygments_lexer": "ipython3",
   "version": "3.7.4"
  }
 },
 "nbformat": 4,
 "nbformat_minor": 4
}
