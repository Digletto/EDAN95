{
 "cells": [
  {
   "cell_type": "code",
   "execution_count": 44,
   "metadata": {},
   "outputs": [],
   "source": [
    "import numpy as np\n",
    "from pathlib import Path\n",
    "import matplotlib.pyplot as plt\n",
    "\n",
    "from sklearn.metrics.pairwise import cosine_similarity\n",
    "\n",
    "from keras.preprocessing.sequence import pad_sequences\n",
    "import keras.models as models\n",
    "import keras.layers as layers\n",
    "from keras.models import Sequential\n",
    "from keras.layers import Embedding, Flatten, SimpleRNN, Dense\n",
    "from keras import losses\n",
    "from keras.utils import to_categorical\n",
    "\n",
    "import tensorflow as tf\n",
    "tf.get_logger().setLevel('ERROR')\n"
   ]
  },
  {
   "cell_type": "code",
   "execution_count": 52,
   "metadata": {},
   "outputs": [],
   "source": [
    "path_embeddings = Path('embeddings/glove.6B.100d.txt')\n",
    "path_train = Path('data/eng.train')\n",
    "path_val = Path('data/eng.valid')\n",
    "path_test = Path('data/eng.test')"
   ]
  },
  {
   "cell_type": "markdown",
   "metadata": {},
   "source": [
    "# Collecting the Embeddings\n",
    "1. Download the GloVe embeddings 6B from [ https://nlp.stanford.edu/projects/glove/ ](https://nlp.stanford.edu/projects/glove/) and keep the 100d vectors. \n",
    "2. You have a local copy of this script in  /usr/local/cs/EDAN95/datasets/;\n",
    "3. Write a function that reads GloVe embeddings and store them in a dictionary, where the keys will be the words and the values, the embeddings.\n",
    "4. Using a cosine similarity, compute the 5 closest words to the words _table_, _france_, and _sweden_."
   ]
  },
  {
   "cell_type": "code",
   "execution_count": 3,
   "metadata": {},
   "outputs": [
    {
     "name": "stdout",
     "output_type": "stream",
     "text": [
      "found 400000 word vectors\n"
     ]
    }
   ],
   "source": [
    "def load_embeddings(path):\n",
    "    embedding_index = {}\n",
    "    with path.open() as f:\n",
    "        for line in f:\n",
    "            values = line.split()\n",
    "            word = values[0]\n",
    "            coef = np.array(values[1:], dtype='float32')\n",
    "            embedding_index[word] = coef\n",
    "\n",
    "    print(f'found {len(embedding_index)} word vectors')\n",
    "\n",
    "    return embedding_index\n",
    "\n",
    "embedding_index = load_embeddings(path_embeddings)"
   ]
  },
  {
   "cell_type": "code",
   "execution_count": 4,
   "metadata": {},
   "outputs": [
    {
     "name": "stdout",
     "output_type": "stream",
     "text": [
      "table ['room' 'bottom' 'place' 'tables' 'table']\n",
      "france ['spain' 'britain' 'french' 'belgium' 'france']\n",
      "sweden ['netherlands' 'finland' 'denmark' 'norway' 'sweden']\n"
     ]
    }
   ],
   "source": [
    "\n",
    "def print_most_similar(embeddings, word, n=5):\n",
    "    indices = np.argpartition(\n",
    "        cosine_similarity([embeddings[word]], list(embedding_index.values()))[0],\n",
    "        -n)[-n:]\n",
    "    print(word, np.array(list(embeddings.keys()))[indices])\n",
    "\n",
    "print_most_similar(embedding_index, 'table')\n",
    "print_most_similar(embedding_index, 'france')\n",
    "print_most_similar(embedding_index, 'sweden')"
   ]
  },
  {
   "cell_type": "markdown",
   "metadata": {},
   "source": [
    "# Reading the Corpus and Building Indices\n",
    "\n",
    "You will read the corpus with programs available from [https://github.com/pnugues/edan95](https://github.com/pnugues/edan95).\n",
    "These programs will enable you to load the files in the form of a list of dictionaries.\n",
    "\n",
    "1. Write a function that for each sentence returns the **x** and **y** lists of symbols consisting of words and NER tags. For the second sentence of the training set, you should have:  \n",
    "\n",
    "```\n",
    "    x = ['eu', 'rejects', 'german', 'call', 'to', 'boycott', 'british', 'lamb', '.']  \n",
    "\n",
    "    y = ['I-ORG', 'O', 'I-MISC', 'O', 'O', 'O', 'I-MISC', 'O', 'O']  \n",
    "```\n",
    "\n",
    "Some datasets you may find on the web use a different NER tagset, where   I- is replaced with   B-, like   B-ORG instead of   I-ORG. This will not change the results.\n",
    "            \n",
    "2. Apply this function to your datasets so that you create **X** and **Y** lists of lists consisting of words and NER tags \n",
    "3. Create a vocabulary of all the words observed in the training set and the words in GloVe. You should find 402,595 different words.\n",
    "4. Create indices and inverted indices for the words and the NER: i.e. you will associate each word with a number. You will use index 0 for the padding symbol and 1 for unknown words."
   ]
  },
  {
   "cell_type": "markdown",
   "metadata": {},
   "source": [
    "## Data format\n",
    "Each word has been put on a separate line and there is an empty line after each sentence.\n",
    "\n",
    "Each row has four columns separated by a single space:\n",
    "1. Word\n",
    "2. POS\n",
    "3. Syntactic chunk tag\n",
    "4. Named Entity tag\n",
    "\n",
    "Chunks and N.E use IOB tags."
   ]
  },
  {
   "cell_type": "code",
   "execution_count": 5,
   "metadata": {},
   "outputs": [],
   "source": [
    "from conll_dictorizer import CoNLLDictorizer\n",
    "\n",
    "def load_data(path):\n",
    "    column_names = ['form', 'pos', 'chunk', 'ne']\n",
    "    dictorizer = CoNLLDictorizer(column_names, col_sep=' +')\n",
    "    \n",
    "    return dictorizer.transform(path.read_text())\n",
    "\n",
    "train_sentences = load_data(path_train)"
   ]
  },
  {
   "cell_type": "code",
   "execution_count": 6,
   "metadata": {},
   "outputs": [
    {
     "data": {
      "text/plain": [
       "(['eu', 'rejects', 'german', 'call', 'to', 'boycott', 'british', 'lamb', '.'],\n",
       " ['I-ORG', 'O', 'I-MISC', 'O', 'O', 'O', 'I-MISC', 'O', 'O'])"
      ]
     },
     "execution_count": 6,
     "metadata": {},
     "output_type": "execute_result"
    }
   ],
   "source": [
    "def extract_sentences(sentences):\n",
    "    x = [[word['form'].lower() for word in sentence] for sentence in sentences]\n",
    "    y = [[word['ne'] for word in sentence] for sentence in sentences]\n",
    "\n",
    "    return x,y\n",
    "\n",
    "x_train, y_train = extract_sentences(train_sentences)\n",
    "\n",
    "x_train[1],y_train[1]"
   ]
  },
  {
   "cell_type": "code",
   "execution_count": 7,
   "metadata": {},
   "outputs": [
    {
     "data": {
      "text/plain": [
       "402595"
      ]
     },
     "execution_count": 7,
     "metadata": {},
     "output_type": "execute_result"
    }
   ],
   "source": [
    "vocabulary = set(embedding_index.keys()).union({word['form'].lower() for sentence in train_sentences for word in sentence})\n",
    "len(vocabulary)"
   ]
  },
  {
   "cell_type": "code",
   "execution_count": 8,
   "metadata": {},
   "outputs": [],
   "source": [
    "def create_word_index(vocabulary):\n",
    "    return dict(zip(vocabulary, range(2, 2 + len(vocabulary))))\n",
    "\n",
    "word_index = create_word_index(vocabulary)\n",
    "ne_index = create_word_index(set().union(*y_train))"
   ]
  },
  {
   "cell_type": "markdown",
   "metadata": {},
   "source": [
    "# Building the Embedding Matrix\n",
    "\n",
    "1. Create a matrix of dimensions (_M_, _N_), where _M_, will the size of the vocabulary: The unique words in the training set and the words in GloVe, and _N_, the dimension of the embeddings.    The padding symbol and the unknown word symbol will be part of the vocabulary.    The shape of your matrix should be: (402597, 100). Initialize it with random values.\n",
    "            \n",
    "2. Fill the matrix with the GloVe embeddings when available. You will use the indices from the previous section."
   ]
  },
  {
   "cell_type": "code",
   "execution_count": 9,
   "metadata": {},
   "outputs": [
    {
     "name": "stdout",
     "output_type": "stream",
     "text": [
      "2595 words missing from glove\n"
     ]
    },
    {
     "data": {
      "text/plain": [
       "(402597, 100)"
      ]
     },
     "execution_count": 9,
     "metadata": {},
     "output_type": "execute_result"
    }
   ],
   "source": [
    "def build_embdding_matrix(word_index, embedding_dim=100):\n",
    "    not_found = 0\n",
    "    embdding_matrix = np.random.normal(0, 1,(len(word_index) + 2, embedding_dim))\n",
    "    for word, i in word_index.items():\n",
    "        embedding_vector = embedding_index.get(word)\n",
    "        if embedding_vector is not None:\n",
    "            embdding_matrix[i] = embedding_vector\n",
    "        else:\n",
    "            not_found += 1\n",
    "\n",
    "    print(f\"{not_found} words missing from glove\")\n",
    "    \n",
    "    return embdding_matrix\n",
    "\n",
    "embedding_matrix = build_embdding_matrix(word_index)\n",
    "\n",
    "embedding_matrix.shape\n"
   ]
  },
  {
   "cell_type": "markdown",
   "metadata": {},
   "source": [
    "# Creating the **X** and **Y** Sequences\n",
    "\n",
    "You will now create the input and output sequences with numerical indices\n",
    "\n",
    "1. Convert the **X** and **Y** lists of symbols in lists of numbers using the indices you created.\n",
    "            \n",
    "2. Pad the sentences using the   pad_sequences function. As maximum length and   maxlen argument, you will use 150 or greater. What matters is that you have a length that is larger than the maximum length observed in your training and development corpora. After padding, the second sentence you look like (the indices are not necessarily the same).\n",
    "\n",
    "```\n",
    "x = [ 0      0      0      0      0      0      0      0      0      0\n",
    "      0      0      0      0      0      0      0      0      0      0\n",
    "      0      0      0      0      0      0      0      0      0      0\n",
    "      0      0      0      0      0      0      0      0      0      0\n",
    "      0      0      0      0      0      0      0      0      0      0\n",
    "      0      0      0      0      0      0      0      0      0      0\n",
    "      0      0      0      0      0      0      0      0      0      0\n",
    "      0      0      0      0      0      0      0      0      0      0\n",
    "      0      0      0      0      0      0      0      0      0      0\n",
    "      0      0      0      0      0      0      0      0      0      0\n",
    "      0      0      0      0      0      0      0      0      0      0\n",
    "      0      0      0      0      0      0      0      0      0      0\n",
    "      0      0      0      0      0      0      0      0      0      0\n",
    "      0      0      0      0      0      0      0      0      0      0\n",
    "      0 142143 307143 161836  91321 363368  83766  85852 218260    936]\n",
    "y = [0 0 0 0 0 0 0 0 0 0 0 0 0 0 0 0 0 0 0 0 0 0 0 0 0 0 0 0 0 0 0 0 0 0 0 0 0\n",
    " 0 0 0 0 0 0 0 0 0 0 0 0 0 0 0 0 0 0 0 0 0 0 0 0 0 0 0 0 0 0 0 0 0 0 0 0 0\n",
    " 0 0 0 0 0 0 0 0 0 0 0 0 0 0 0 0 0 0 0 0 0 0 0 0 0 0 0 0 0 0 0 0 0 0 0 0 0\n",
    " 0 0 0 0 0 0 0 0 0 0 0 0 0 0 0 0 0 0 0 0 0 0 0 0 0 0 0 0 0 0 7 9 6 9 9 9 6\n",
    " 9 9]\n",
    "```\n",
    "\n",
    "3. Do the same for the development set."
   ]
  },
  {
   "cell_type": "code",
   "execution_count": 10,
   "metadata": {},
   "outputs": [],
   "source": [
    "def texts_to_sequences(texts, index):\n",
    "    return [[index.get(word, 1) for word in text] for text in texts]"
   ]
  },
  {
   "cell_type": "code",
   "execution_count": 11,
   "metadata": {},
   "outputs": [
    {
     "data": {
      "text/plain": [
       "(array([     0,      0,      0,      0,      0,      0,      0,      0,\n",
       "             0,      0,      0,      0,      0,      0,      0,      0,\n",
       "             0,      0,      0,      0,      0,      0,      0,      0,\n",
       "             0,      0,      0,      0,      0,      0,      0,      0,\n",
       "             0,      0,      0,      0,      0,      0,      0,      0,\n",
       "             0,      0,      0,      0,      0,      0,      0,      0,\n",
       "             0,      0,      0,      0,      0,      0,      0,      0,\n",
       "             0,      0,      0,      0,      0,      0,      0,      0,\n",
       "             0,      0,      0,      0,      0,      0,      0,      0,\n",
       "             0,      0,      0,      0,      0,      0,      0,      0,\n",
       "             0,      0,      0,      0,      0,      0,      0,      0,\n",
       "             0,      0,      0,      0,      0,      0,      0,      0,\n",
       "             0,      0,      0,      0,      0,      0,      0,      0,\n",
       "             0,      0,      0,      0,      0,      0,      0,      0,\n",
       "             0,      0,      0,      0,      0,      0,      0,      0,\n",
       "             0,      0,      0,      0,      0,      0,      0,      0,\n",
       "             0,      0,      0,      0,      0,      0,      0,      0,\n",
       "             0,      0,      0,      0,      0, 295434, 117323, 197881,\n",
       "        177619, 308543, 272089, 263408, 319730, 390300], dtype=int32),\n",
       " array([0, 0, 0, 0, 0, 0, 0, 0, 0, 0, 0, 0, 0, 0, 0, 0, 0, 0, 0, 0, 0, 0,\n",
       "        0, 0, 0, 0, 0, 0, 0, 0, 0, 0, 0, 0, 0, 0, 0, 0, 0, 0, 0, 0, 0, 0,\n",
       "        0, 0, 0, 0, 0, 0, 0, 0, 0, 0, 0, 0, 0, 0, 0, 0, 0, 0, 0, 0, 0, 0,\n",
       "        0, 0, 0, 0, 0, 0, 0, 0, 0, 0, 0, 0, 0, 0, 0, 0, 0, 0, 0, 0, 0, 0,\n",
       "        0, 0, 0, 0, 0, 0, 0, 0, 0, 0, 0, 0, 0, 0, 0, 0, 0, 0, 0, 0, 0, 0,\n",
       "        0, 0, 0, 0, 0, 0, 0, 0, 0, 0, 0, 0, 0, 0, 0, 0, 0, 0, 0, 0, 0, 0,\n",
       "        0, 0, 0, 0, 0, 0, 0, 0, 0, 3, 2, 4, 2, 2, 2, 4, 2, 2], dtype=int32))"
      ]
     },
     "execution_count": 11,
     "metadata": {},
     "output_type": "execute_result"
    }
   ],
   "source": [
    "x_train = texts_to_sequences(x_train, word_index)\n",
    "y_train = texts_to_sequences(y_train, ne_index)\n",
    "\n",
    "x_train = pad_sequences(x_train, 150)\n",
    "y_train = pad_sequences(y_train, 150)\n",
    "\n",
    "x_train[1], y_train[1]"
   ]
  },
  {
   "cell_type": "code",
   "execution_count": 12,
   "metadata": {},
   "outputs": [],
   "source": [
    "# Load validation data\n",
    "val_sentences = load_data(path_val)\n",
    "x_val, y_val = extract_sentences(val_sentences)\n",
    "\n",
    "x_val = pad_sequences(\n",
    "    texts_to_sequences(x_val, word_index),\n",
    "    150)\n",
    "y_val = pad_sequences(\n",
    "    texts_to_sequences(y_val, ne_index),\n",
    "    150)"
   ]
  },
  {
   "cell_type": "markdown",
   "metadata": {},
   "source": [
    "#### Building a Simple Recurrent Neural Network\n",
    "\n",
    "1. Create a simple recurrent network and train a model with the training set. As layers, you will use   Embedding,   SimpleRNN, and   Dense.\n",
    "            \n",
    "2. Compile and fit your network. You will report the training and validation losses and accuracies and comment on the possible overfit.\n",
    "            \n",
    "3. Apply your network to the test set and report the accuracy you obtained. You will use the   evaluate method."
   ]
  },
  {
   "cell_type": "code",
   "execution_count": 35,
   "metadata": {},
   "outputs": [],
   "source": [
    "y_train = to_categorical(y_train, num_classes=len(ne_index) + 2)\n",
    "y_val = to_categorical(y_val, num_classes=len(ne_index) + 2)"
   ]
  },
  {
   "cell_type": "code",
   "execution_count": 40,
   "metadata": {},
   "outputs": [],
   "source": [
    "model = Sequential([\n",
    "    Embedding(embedding_matrix.shape[0], embedding_matrix.shape[1], input_length=150, mask_zero=True),\n",
    "    SimpleRNN(32, return_sequences=True),\n",
    "    Dense(len(ne_index) + 2, activation='softmax')\n",
    "])"
   ]
  },
  {
   "cell_type": "code",
   "execution_count": 41,
   "metadata": {},
   "outputs": [
    {
     "name": "stdout",
     "output_type": "stream",
     "text": [
      "Train on 14987 samples, validate on 3466 samples\n",
      "Epoch 1/1\n",
      "14987/14987 [==============================] - 260s 17ms/step - loss: 0.4467 - acc: 0.8778 - val_loss: 0.2582 - val_acc: 0.9282\n"
     ]
    }
   ],
   "source": [
    "model.compile(optimizer='rmsprop', loss=losses.categorical_crossentropy, metrics=['acc'])\n",
    "\n",
    "history = model.fit(x_train,\n",
    "                    y_train,\n",
    "                    epochs=1,\n",
    "                    batch_size=32,\n",
    "                    validation_data=(x_val, y_val)\n",
    "                   )"
   ]
  },
  {
   "cell_type": "code",
   "execution_count": 49,
   "metadata": {},
   "outputs": [],
   "source": [
    "def plot_training_history(history):\n",
    "    x = list(range(1, len(history.history['acc']) + 1))\n",
    "    \n",
    "    plt.plot(x, history.history['acc'])\n",
    "    plt.plot(x, history.history['val_acc'])\n",
    "    plt.title('Training and validation accuracy')\n",
    "    plt.ylabel('Accuracy')\n",
    "    plt.xlabel('Epoch')\n",
    "    plt.legend(['Train', 'Val'], loc='upper left')\n",
    "    plt.show()\n",
    "\n",
    "    plt.plot(x, history.history['loss'])\n",
    "    plt.plot(x, history.history['val_loss'])\n",
    "    plt.title('Training and validation loss')\n",
    "    plt.ylabel('Loss')\n",
    "    plt.xlabel('Epoch')\n",
    "    plt.legend(['Train', 'Val'], loc='upper left')\n",
    "    plt.show()"
   ]
  },
  {
   "cell_type": "code",
   "execution_count": 50,
   "metadata": {},
   "outputs": [
    {
     "data": {
      "image/png": "[encoded data removed]",
      "text/plain": [
       "<Figure size 432x288 with 1 Axes>"
      ]
     },
     "metadata": {
      "needs_background": "dark"
     },
     "output_type": "display_data"
    },
    {
     "data": {
      "image/png": "[encoded data removed]",
      "text/plain": [
       "<Figure size 432x288 with 1 Axes>"
      ]
     },
     "metadata": {
      "needs_background": "dark"
     },
     "output_type": "display_data"
    }
   ],
   "source": [
    "plot_training_history(history)\n"
   ]
  },
  {
   "cell_type": "code",
   "execution_count": 53,
   "metadata": {},
   "outputs": [],
   "source": [
    "# Load test data\n",
    "test_sentences = load_data(path_test)\n",
    "x_test, y_test = extract_sentences(test_sentences)\n",
    "\n",
    "x_test = pad_sequences(\n",
    "    texts_to_sequences(x_test, word_index),\n",
    "    150)\n",
    "y_test = pad_sequences(\n",
    "    texts_to_sequences(y_test, ne_index),\n",
    "    150)"
   ]
  },
  {
   "cell_type": "code",
   "execution_count": 56,
   "metadata": {},
   "outputs": [],
   "source": [
    "y_pred = model.predict_classes(x_test)\n",
    "\n"
   ]
  }
 ],
 "metadata": {
  "kernelspec": {
   "display_name": "Python 3",
   "language": "python",
   "name": "python3"
  },
  "language_info": {
   "codemirror_mode": {
    "name": "ipython",
    "version": 3
   },
   "file_extension": ".py",
   "mimetype": "text/x-python",
   "name": "python",
   "nbconvert_exporter": "python",
   "pygments_lexer": "ipython3",
   "version": "3.7.4"
  }
 },
 "nbformat": 4,
 "nbformat_minor": 4
}
